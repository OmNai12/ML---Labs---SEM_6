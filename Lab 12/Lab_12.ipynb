{
  "nbformat": 4,
  "nbformat_minor": 0,
  "metadata": {
    "colab": {
      "provenance": []
    },
    "kernelspec": {
      "name": "python3",
      "display_name": "Python 3"
    },
    "language_info": {
      "name": "python"
    }
  },
  "cells": [
    {
      "cell_type": "code",
      "execution_count": null,
      "metadata": {
        "id": "5XQbj3tamgxn"
      },
      "outputs": [],
      "source": [
        "# Import Libraries\n",
        "import matplotlib.pyplot as plt\n",
        "import numpy as np\n",
        "import pandas as pd\n",
        "import torch\n",
        "import torch.nn as nn\n",
        "from torch.autograd import Variable\n",
        "from torch.utils.data import DataLoader\n",
        "import tensorflow\n",
        "from sklearn.model_selection import train_test_split\n",
        "# from torch import jit\n",
        "# Used for one hot encoding.\n",
        "from keras.utils import to_categorical"
      ]
    },
    {
      "cell_type": "code",
      "source": [
        "from keras.datasets import mnist\n",
        "(X_train, y_train), (X_test, y_test) = mnist.load_data()\n",
        "# Splitted in train and test samples.\n",
        "print(\"This is for the X-train  \", X_train.shape)\n",
        "print(\"This is for the X-test : \", X_test.shape)\n",
        "print(\"This is for the y-train  \", y_train.shape)\n",
        "print(\"This is for the y-test : \", y_test.shape)"
      ],
      "metadata": {
        "colab": {
          "base_uri": "https://localhost:8080/"
        },
        "id": "bl8E6JEfrP9Q",
        "outputId": "894d2751-e462-4b39-82e4-b3a78be4eac0"
      },
      "execution_count": null,
      "outputs": [
        {
          "output_type": "stream",
          "name": "stdout",
          "text": [
            "This is for the X-train   (60000, 28, 28)\n",
            "This is for the X-test :  (10000, 28, 28)\n",
            "This is for the y-train   (60000,)\n",
            "This is for the y-test :  (10000,)\n"
          ]
        }
      ]
    },
    {
      "cell_type": "code",
      "source": [
        "# Display some images\n",
        "fig, axes = plt.subplots(ncols=5, sharex=False, \n",
        "    sharey=True, figsize=(10, 4))\n",
        "for i in range(5):\n",
        "  # Displaying the title.\n",
        "    axes[i].set_title(y_train[i])\n",
        "    # To display the title.\n",
        "    axes[i].imshow(X_train[i], cmap='gray')\n",
        "    axes[i].get_xaxis().set_visible(False)\n",
        "    axes[i].get_yaxis().set_visible(False)\n",
        "plt.show()"
      ],
      "metadata": {
        "colab": {
          "base_uri": "https://localhost:8080/",
          "height": 143
        },
        "id": "Lh_vQ1z-sTuu",
        "outputId": "a61ee531-5420-4c68-84fd-ee84242ec194"
      },
      "execution_count": null,
      "outputs": [
        {
          "output_type": "display_data",
          "data": {
            "text/plain": [
              "<Figure size 720x288 with 5 Axes>"
            ],
            "image/png": "[encoded data removed]"
          },
          "metadata": {
            "needs_background": "light"
          }
        }
      ]
    },
    {
      "cell_type": "code",
      "source": [
        "# Convert y_train into one-hot format \n",
        "temp = []\n",
        "for i in range(len(y_train)):\n",
        "  temp.append(to_categorical(y_train[i], num_classes=10))    \n",
        "y_train = np.array(temp)\n",
        "\n",
        "# Convert y_test into one-hot format\n",
        "temp = []\n",
        "for i in range(len(y_test)):\n",
        "  temp.append(to_categorical(y_test[i], num_classes=10))\n",
        "y_test = np.array(temp)\n",
        "\n",
        "# Check the new shapr of train and test data set.\n",
        "print(y_train.shape)\n",
        "print(y_test.shape)"
      ],
      "metadata": {
        "colab": {
          "base_uri": "https://localhost:8080/"
        },
        "id": "0IbxkOc6tFMt",
        "outputId": "1fceadb4-6d4d-4b06-f0f2-1f84a1666860"
      },
      "execution_count": null,
      "outputs": [
        {
          "output_type": "stream",
          "name": "stdout",
          "text": [
            "(60000, 10)\n",
            "(10000, 10)\n"
          ]
        }
      ]
    },
    {
      "cell_type": "code",
      "source": [
        "from keras.layers import Dense, Flatten\n",
        "from keras.models import Sequential\n",
        "# Create simple Neural Network model\n",
        "model = Sequential()\n",
        "model.add(Flatten(input_shape=(28,28)))\n",
        "model.add(Dense(10, activation='relu'))\n",
        "model.add(Dense(10, activation='tanh'))\n",
        "model.add(Dense(10, activation='tanh'))\n",
        "model.add(Dense(10, activation='sigmoid'))\n",
        "model.add(Dense(10, activation='sigmoid'))\n",
        "model.add(Dense(10, activation='sigmoid'))\n",
        "model.add(Dense(10, activation='sigmoid'))\n",
        "model.add(Dense(10, activation='sigmoid'))\n",
        "# We can also use the code below in order to see the details of our architecture:\n",
        "model.summary()"
      ],
      "metadata": {
        "colab": {
          "base_uri": "https://localhost:8080/"
        },
        "id": "5V2Cj9I3uQi-",
        "outputId": "45e2c67a-9cc9-4658-e4ca-7cf4346bf337"
      },
      "execution_count": null,
      "outputs": [
        {
          "output_type": "stream",
          "name": "stdout",
          "text": [
            "Model: \"sequential_4\"\n",
            "_________________________________________________________________\n",
            " Layer (type)                Output Shape              Param #   \n",
            "=================================================================\n",
            " flatten_4 (Flatten)         (None, 784)               0         \n",
            "                                                                 \n",
            " dense_23 (Dense)            (None, 10)                7850      \n",
            "                                                                 \n",
            " dense_24 (Dense)            (None, 10)                110       \n",
            "                                                                 \n",
            " dense_25 (Dense)            (None, 10)                110       \n",
            "                                                                 \n",
            " dense_26 (Dense)            (None, 10)                110       \n",
            "                                                                 \n",
            " dense_27 (Dense)            (None, 10)                110       \n",
            "                                                                 \n",
            " dense_28 (Dense)            (None, 10)                110       \n",
            "                                                                 \n",
            " dense_29 (Dense)            (None, 10)                110       \n",
            "                                                                 \n",
            " dense_30 (Dense)            (None, 10)                110       \n",
            "                                                                 \n",
            "=================================================================\n",
            "Total params: 8,620\n",
            "Trainable params: 8,620\n",
            "Non-trainable params: 0\n",
            "_________________________________________________________________\n"
          ]
        }
      ]
    },
    {
      "cell_type": "code",
      "source": [
        "model.compile(optimizer='adam', loss='categorical_crossentropy',metrics=['acc'])\n",
        "# Train the Neural Network model\n",
        "model.fit(X_train, y_train, epochs=15, validation_data=(X_test,y_test))"
      ],
      "metadata": {
        "colab": {
          "base_uri": "https://localhost:8080/"
        },
        "id": "XkbFxdRpwM1k",
        "outputId": "d0a97bcb-4e3c-4acf-bf9e-6ab7e73b24e6"
      },
      "execution_count": null,
      "outputs": [
        {
          "output_type": "stream",
          "name": "stdout",
          "text": [
            "Epoch 1/15\n",
            "1875/1875 [==============================] - 7s 3ms/step - loss: 2.0265 - acc: 0.2175 - val_loss: 1.7478 - val_acc: 0.2938\n",
            "Epoch 2/15\n",
            "1875/1875 [==============================] - 5s 3ms/step - loss: 1.6792 - acc: 0.3190 - val_loss: 1.5706 - val_acc: 0.3505\n",
            "Epoch 3/15\n",
            "1875/1875 [==============================] - 6s 3ms/step - loss: 1.5408 - acc: 0.3826 - val_loss: 1.4623 - val_acc: 0.4484\n",
            "Epoch 4/15\n",
            "1875/1875 [==============================] - 5s 3ms/step - loss: 1.4550 - acc: 0.4500 - val_loss: 1.3999 - val_acc: 0.4613\n",
            "Epoch 5/15\n",
            "1875/1875 [==============================] - 6s 3ms/step - loss: 1.3866 - acc: 0.4707 - val_loss: 1.3318 - val_acc: 0.4928\n",
            "Epoch 6/15\n",
            "1875/1875 [==============================] - 5s 2ms/step - loss: 1.3295 - acc: 0.4990 - val_loss: 1.2904 - val_acc: 0.5552\n",
            "Epoch 7/15\n",
            "1875/1875 [==============================] - 5s 3ms/step - loss: 1.2592 - acc: 0.5300 - val_loss: 1.1937 - val_acc: 0.5522\n",
            "Epoch 8/15\n",
            "1875/1875 [==============================] - 6s 3ms/step - loss: 1.2850 - acc: 0.5107 - val_loss: 1.2631 - val_acc: 0.4936\n",
            "Epoch 9/15\n",
            "1875/1875 [==============================] - 5s 2ms/step - loss: 1.2923 - acc: 0.5172 - val_loss: 1.5055 - val_acc: 0.4488\n",
            "Epoch 10/15\n",
            "1875/1875 [==============================] - 7s 4ms/step - loss: 1.2321 - acc: 0.5694 - val_loss: 1.1835 - val_acc: 0.6113\n",
            "Epoch 11/15\n",
            "1875/1875 [==============================] - 5s 3ms/step - loss: 1.1842 - acc: 0.5907 - val_loss: 1.0892 - val_acc: 0.6411\n",
            "Epoch 12/15\n",
            "1875/1875 [==============================] - 6s 3ms/step - loss: 1.1180 - acc: 0.6263 - val_loss: 1.0847 - val_acc: 0.6057\n",
            "Epoch 13/15\n",
            "1875/1875 [==============================] - 5s 3ms/step - loss: 1.1091 - acc: 0.6179 - val_loss: 1.1264 - val_acc: 0.6143\n",
            "Epoch 14/15\n",
            "1875/1875 [==============================] - 5s 3ms/step - loss: 1.0693 - acc: 0.6381 - val_loss: 0.9845 - val_acc: 0.6576\n",
            "Epoch 15/15\n",
            "1875/1875 [==============================] - 6s 3ms/step - loss: 1.1790 - acc: 0.5854 - val_loss: 1.2476 - val_acc: 0.5395\n"
          ]
        },
        {
          "output_type": "execute_result",
          "data": {
            "text/plain": [
              "<keras.callbacks.History at 0x7fed64400a00>"
            ]
          },
          "metadata": {},
          "execution_count": 22
        }
      ]
    },
    {
      "cell_type": "code",
      "source": [
        "# Making predictions using our trained model\n",
        "predictions = model.predict(X_test)\n",
        "predictions = np.argmax(predictions, axis=1)\n",
        "\n",
        "# Display some predictions on test data\n",
        "fig, axes = plt.subplots(ncols=10, sharex=False,\n",
        "\t\t\t sharey=True, figsize=(20, 4))\n",
        "for i in range(10):\n",
        "  axes[i].set_title(predictions[i])\n",
        "  axes[i].imshow(X_test[i], cmap='gray')\n",
        "  axes[i].get_xaxis().set_visible(False)\n",
        "  axes[i].get_yaxis().set_visible(False)\n",
        "\n",
        "plt.show()"
      ],
      "metadata": {
        "colab": {
          "base_uri": "https://localhost:8080/",
          "height": 158
        },
        "id": "IlvpXI6cyBIs",
        "outputId": "58914d41-a234-4cec-8e3f-8e298a343fca"
      },
      "execution_count": null,
      "outputs": [
        {
          "output_type": "stream",
          "name": "stdout",
          "text": [
            "313/313 [==============================] - 1s 1ms/step\n"
          ]
        },
        {
          "output_type": "display_data",
          "data": {
            "text/plain": [
              "<Figure size 1440x288 with 10 Axes>"
            ],
            "image/png": "[encoded data removed]"
          },
          "metadata": {
            "needs_background": "light"
          }
        }
      ]
    }
  ]
}